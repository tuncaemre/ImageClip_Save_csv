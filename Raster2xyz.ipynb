{
 "cells": [
  {
   "cell_type": "markdown",
   "metadata": {},
   "source": [
    "# Kütüphanelerin import edilmesi"
   ]
  },
  {
   "cell_type": "code",
   "execution_count": 124,
   "metadata": {},
   "outputs": [],
   "source": [
    "from osgeo import gdal\n",
    "import os,glob\n",
    "from raster2xyz.raster2xyz import Raster2xyz\n",
    "import pandas as pd"
   ]
  },
  {
   "cell_type": "markdown",
   "metadata": {},
   "source": [
    "# Görüntüleri Kesilmesi"
   ]
  },
  {
   "cell_type": "code",
   "execution_count": 85,
   "metadata": {},
   "outputs": [
    {
     "name": "stdout",
     "output_type": "stream",
     "text": [
      "Görüntü Listesi:  ['20190710-ET.tif', '20190806-ET.tif', '20190826-ET.tif']\n"
     ]
    }
   ],
   "source": [
    "inputPath = './Images_c1/'\n",
    "outputpath= './Output/'\n",
    "\n",
    "bandList = [band for band in os.listdir(inputPath) if band[-4:]==\".tif\"]\n",
    "print(\"Görüntü Listesi: \",bandList)\n",
    "\n",
    "#Shapefile\n",
    "shp_clip = r'E:\\GitHub\\raster2xyz\\shp\\sil.shp'\n",
    "\n",
    "\n",
    "#Görüntülerin Kesilmesi ve Kaydedilmesi\n",
    "for band in bandList:\n",
    "    options = gdal.WarpOptions(cutlineDSName=shp_clip,cropToCutline=True)\n",
    "    outBand = gdal.Warp(srcDSOrSrcDSTab=inputPath + band,\n",
    "                        destNameOrDestDS=outputpath+'clip_'+ band,\n",
    "                        options=options)\n",
    "    outBand= None"
   ]
  },
  {
   "cell_type": "markdown",
   "metadata": {},
   "source": [
    "# Kesilen Görüntülerin ASCI Formatında Kayıt Edilmesi"
   ]
  },
  {
   "cell_type": "code",
   "execution_count": 121,
   "metadata": {},
   "outputs": [
    {
     "name": "stderr",
     "output_type": "stream",
     "text": [
      "[2021-03-13 12:38:12 - INFO] - Getting geotransform and data...\n",
      "[2021-03-13 12:38:12 - INFO] - Getting XYZ data...\n",
      "[2021-03-13 12:38:12 - INFO] - Getting geotransformed coordinates...\n",
      "[2021-03-13 12:38:12 - INFO] - Building XYZ data...\n",
      "[2021-03-13 12:38:12 - INFO] - New XYZ (csv file) created...\n",
      "[2021-03-13 12:38:12 - INFO] - Getting geotransform and data...\n",
      "[2021-03-13 12:38:12 - INFO] - Getting XYZ data...\n",
      "[2021-03-13 12:38:12 - INFO] - Getting geotransformed coordinates...\n",
      "[2021-03-13 12:38:12 - INFO] - Building XYZ data...\n",
      "[2021-03-13 12:38:12 - INFO] - New XYZ (csv file) created...\n",
      "[2021-03-13 12:38:12 - INFO] - Getting geotransform and data...\n",
      "[2021-03-13 12:38:12 - INFO] - Getting XYZ data...\n",
      "[2021-03-13 12:38:12 - INFO] - Getting geotransformed coordinates...\n",
      "[2021-03-13 12:38:12 - INFO] - Building XYZ data...\n",
      "[2021-03-13 12:38:12 - INFO] - New XYZ (csv file) created...\n"
     ]
    }
   ],
   "source": [
    "out_csv = './Out_csv/'\n",
    "rtxyz = Raster2xyz()\n",
    "goruntuler = glob.glob(r\"E:\\GitHub\\raster2xyz\\Output\\*.tif\")\n",
    "\n",
    "for i in goruntuler:\n",
    "    rtxyz.translate(i, i[:-4]+'.csv')\n",
    "\n",
    "    "
   ]
  },
  {
   "cell_type": "markdown",
   "metadata": {},
   "source": [
    "# .DataFrame Birleştirme İşlemi"
   ]
  },
  {
   "cell_type": "code",
   "execution_count": 153,
   "metadata": {},
   "outputs": [
    {
     "name": "stdout",
     "output_type": "stream",
     "text": [
      "İşlem Tamamlandı\n"
     ]
    }
   ],
   "source": [
    "os.chdir(\"../Output\")\n",
    "\n",
    "uzantı ='csv'\n",
    "all_filenames = [i for i in glob.glob('*.{}'.format(uzantı))]\n",
    "\n",
    "\n",
    "\n",
    "combined_csv = pd.concat([pd.read_csv(f) for f in all_filenames], axis=1) #axis=1 ile yanyana ekler, kaldırırsan altalta ekler\n",
    "\n",
    "combined_csv.to_csv(\"birlestirilmis_csv2.csv\", index=False, encoding=\"utf-8-sig\")\n",
    "\n",
    "print(\"İşlem Tamamlandı\")\n",
    "\n",
    "\n",
    "\n",
    "\n",
    "\n",
    "\n",
    "\n",
    "\n",
    "\n",
    "\n",
    "\n",
    "\n",
    "\n",
    "\n",
    "\n",
    "\n",
    "\n",
    "\n",
    "\n",
    "\n",
    "\n",
    "\n",
    "\n",
    "\n",
    "\n"
   ]
  },
  {
   "cell_type": "code",
   "execution_count": null,
   "metadata": {},
   "outputs": [],
   "source": []
  }
 ],
 "metadata": {
  "kernelspec": {
   "display_name": "Python 3",
   "language": "python",
   "name": "python3"
  },
  "language_info": {
   "codemirror_mode": {
    "name": "ipython",
    "version": 3
   },
   "file_extension": ".py",
   "mimetype": "text/x-python",
   "name": "python",
   "nbconvert_exporter": "python",
   "pygments_lexer": "ipython3",
   "version": "3.7.6"
  }
 },
 "nbformat": 4,
 "nbformat_minor": 4
}
